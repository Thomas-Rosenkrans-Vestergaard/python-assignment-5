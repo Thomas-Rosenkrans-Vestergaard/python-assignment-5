{
 "cells": [
  {
   "cell_type": "markdown",
   "metadata": {},
   "source": [
    "## Part 1: Writing a server\n",
    "\n",
    "The first part of the assignment is to write a very simple server. It needs to do three things:"
   ]
  },
  {
   "cell_type": "code",
   "execution_count": 5,
   "metadata": {},
   "outputs": [],
   "source": [
    "import server\n",
    "import hack"
   ]
  },
  {
   "cell_type": "markdown",
   "metadata": {},
   "source": [
    "The server is located in `server.py` and can be started using:\n",
    "- `set FLASK_APP=server.py`\n",
    "- `python -m flask run`"
   ]
  },
  {
   "cell_type": "markdown",
   "metadata": {},
   "source": [
    "## Part 2: Hack the server!\n",
    "Now we want to hack the server. But not just hack it once. We want to automate hacking the server! Before you start on this part, make sure your server from part 1 is running."
   ]
  },
  {
   "cell_type": "code",
   "execution_count": 6,
   "metadata": {},
   "outputs": [
    {
     "name": "stdout",
     "output_type": "stream",
     "text": [
      "hz\n"
     ]
    }
   ],
   "source": [
    "hack.sequential_hack(print)"
   ]
  }
 ],
 "metadata": {
  "kernelspec": {
   "display_name": "Python 3",
   "language": "python",
   "name": "python3"
  },
  "language_info": {
   "codemirror_mode": {
    "name": "ipython",
    "version": 3
   },
   "file_extension": ".py",
   "mimetype": "text/x-python",
   "name": "python",
   "nbconvert_exporter": "python",
   "pygments_lexer": "ipython3",
   "version": "3.7.2"
  }
 },
 "nbformat": 4,
 "nbformat_minor": 2
}
