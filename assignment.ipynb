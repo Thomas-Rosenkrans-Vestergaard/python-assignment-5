{
 "cells": [
  {
   "cell_type": "markdown",
   "metadata": {},
   "source": [
    "## Part 1: Writing a server\n",
    "\n",
    "The first part of the assignment is to write a very simple server. It needs to do three things:"
   ]
  },
  {
   "cell_type": "code",
   "execution_count": 8,
   "metadata": {},
   "outputs": [],
   "source": [
    "import server\n",
    "import hack"
   ]
  },
  {
   "cell_type": "code",
   "execution_count": 9,
   "metadata": {},
   "outputs": [
    {
     "ename": "NameError",
     "evalue": "name 'app' is not defined",
     "output_type": "error",
     "traceback": [
      "\u001b[1;31m---------------------------------------------------------------------------\u001b[0m",
      "\u001b[1;31mNameError\u001b[0m                                 Traceback (most recent call last)",
      "\u001b[1;32m<ipython-input-9-26f4dbb161db>\u001b[0m in \u001b[0;36m<module>\u001b[1;34m\u001b[0m\n\u001b[0;32m      1\u001b[0m \u001b[0mpassword\u001b[0m \u001b[1;33m=\u001b[0m \u001b[1;34m'hz'\u001b[0m\u001b[1;33m\u001b[0m\u001b[1;33m\u001b[0m\u001b[0m\n\u001b[0;32m      2\u001b[0m \u001b[1;33m\u001b[0m\u001b[0m\n\u001b[1;32m----> 3\u001b[1;33m \u001b[1;33m@\u001b[0m\u001b[0mapp\u001b[0m\u001b[1;33m.\u001b[0m\u001b[0mroute\u001b[0m\u001b[1;33m(\u001b[0m\u001b[1;34m'/auth'\u001b[0m\u001b[1;33m,\u001b[0m \u001b[0mmethods\u001b[0m\u001b[1;33m=\u001b[0m\u001b[1;33m[\u001b[0m\u001b[1;34m'POST'\u001b[0m\u001b[1;33m]\u001b[0m\u001b[1;33m)\u001b[0m\u001b[1;33m\u001b[0m\u001b[1;33m\u001b[0m\u001b[0m\n\u001b[0m\u001b[0;32m      4\u001b[0m \u001b[1;32mdef\u001b[0m \u001b[0mauthenticate\u001b[0m\u001b[1;33m(\u001b[0m\u001b[1;33m)\u001b[0m\u001b[1;33m:\u001b[0m\u001b[1;33m\u001b[0m\u001b[1;33m\u001b[0m\u001b[0m\n\u001b[0;32m      5\u001b[0m \u001b[1;33m\u001b[0m\u001b[0m\n",
      "\u001b[1;31mNameError\u001b[0m: name 'app' is not defined"
     ]
    }
   ],
   "source": [
    "password = 'hz'\n",
    "\n",
    "@app.route('/auth', methods=['POST'])\n",
    "def authenticate():\n",
    "    \n",
    "    if not request.is_json:\n",
    "        return jsonify({\"error\": \"No password provided.\"}), 422, {'Content-Type':'application/json'}\n",
    "\n",
    "    provided_password = request.get_json().get('password')\n",
    "    if provided_password is None:\n",
    "        return jsonify({\"error\": \"No password provided.\"}), 422, {'Content-Type':'application/json'}\n",
    "    \n",
    "    if password == provided_password:\n",
    "        message = \"You are now authenticated.\"\n",
    "        status = 200\n",
    "    else:\n",
    "        message = \"You were not authenticated.\"\n",
    "        status = 401\n",
    "\n",
    "    return json.dumps({'message':message}), status, {'Content-Type':'application/json'}"
   ]
  },
  {
   "cell_type": "markdown",
   "metadata": {},
   "source": [
    "The server is located in `server.py` and can be started using:\n",
    "- `set FLASK_APP=server.py`\n",
    "- `python -m flask run`"
   ]
  },
  {
   "cell_type": "markdown",
   "metadata": {},
   "source": [
    "## Part 2: Hack the server!"
   ]
  },
  {
   "cell_type": "code",
   "execution_count": 7,
   "metadata": {},
   "outputs": [],
   "source": [
    "def find_combinations():\n",
    "    for a in ascii_letters:\n",
    "        for b in ascii_letters:    \n",
    "            yield a + b\n",
    "\n",
    "def check_password(password):\n",
    "    data = {\"password\": password}\n",
    "    headers = {'Content-Type': 'application/json'}\n",
    "    response = requests.post('http://127.0.0.1:5000/auth', json=data, headers=headers)\n",
    "    return response.status_code == 200\n",
    "\n",
    "def sequential_hack(on_complete):\n",
    "    for password in find_combinations():\n",
    "        if check_password(password):\n",
    "            on_complete(password)\n",
    "            return\n",
    "    \n",
    "    on_complete(password)"
   ]
  },
  {
   "cell_type": "code",
   "execution_count": 6,
   "metadata": {},
   "outputs": [
    {
     "name": "stdout",
     "output_type": "stream",
     "text": [
      "hz\n"
     ]
    }
   ],
   "source": [
    "hack.sequential_hack(print)"
   ]
  }
 ],
 "metadata": {
  "kernelspec": {
   "display_name": "Python 3",
   "language": "python",
   "name": "python3"
  },
  "language_info": {
   "codemirror_mode": {
    "name": "ipython",
    "version": 3
   },
   "file_extension": ".py",
   "mimetype": "text/x-python",
   "name": "python",
   "nbconvert_exporter": "python",
   "pygments_lexer": "ipython3",
   "version": "3.7.2"
  }
 },
 "nbformat": 4,
 "nbformat_minor": 2
}
