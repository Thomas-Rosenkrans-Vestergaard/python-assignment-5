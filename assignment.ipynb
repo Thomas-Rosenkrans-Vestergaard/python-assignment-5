{
 "cells": [
  {
   "cell_type": "markdown",
   "metadata": {},
   "source": [
    "## Part 1: Writing a server\n",
    "\n",
    "The first part of the assignment is to write a very simple server. It needs to do three things:"
   ]
  },
  {
   "cell_type": "code",
   "execution_count": 8,
   "metadata": {},
   "outputs": [],
   "source": [
    "import server\n",
    "import hack"
   ]
  },
  {
   "cell_type": "code",
   "execution_count": 10,
   "metadata": {},
   "outputs": [],
   "source": [
    "from flask import Flask, request, Response, jsonify\n",
    "import json\n",
    "app = Flask(__name__)\n",
    "\n",
    "password = 'hz'\n",
    "\n",
    "@app.route('/auth', methods=['POST'])\n",
    "def authenticate():\n",
    "    \n",
    "    if not request.is_json:\n",
    "        return jsonify({\"error\": \"No password provided.\"}), 422, {'Content-Type':'application/json'}\n",
    "\n",
    "    provided_password = request.get_json().get('password')\n",
    "    if provided_password is None:\n",
    "        return jsonify({\"error\": \"No password provided.\"}), 422, {'Content-Type':'application/json'}\n",
    "    \n",
    "    if password == provided_password:\n",
    "        message = \"You are now authenticated.\"\n",
    "        status = 200\n",
    "    else:\n",
    "        message = \"You were not authenticated.\"\n",
    "        status = 401\n",
    "\n",
    "    return json.dumps({'message':message}), status, {'Content-Type':'application/json'}"
   ]
  },
  {
   "cell_type": "markdown",
   "metadata": {},
   "source": [
    "The server is located in `server.py` and can be started using:\n",
    "- `set FLASK_APP=server.py`\n",
    "- `python -m flask run`"
   ]
  },
  {
   "cell_type": "markdown",
   "metadata": {},
   "source": [
    "## Part 2: Hack the server!"
   ]
  },
  {
   "cell_type": "code",
   "execution_count": 7,
   "metadata": {},
   "outputs": [],
   "source": [
    "def find_combinations():\n",
    "    for a in ascii_letters:\n",
    "        for b in ascii_letters:    \n",
    "            yield a + b\n",
    "\n",
    "def check_password(password):\n",
    "    data = {\"password\": password}\n",
    "    headers = {'Content-Type': 'application/json'}\n",
    "    response = requests.post('http://127.0.0.1:5000/auth', json=data, headers=headers)\n",
    "    return response.status_code == 200\n",
    "\n",
    "def sequential_hack(on_complete):\n",
    "    for password in find_combinations():\n",
    "        if check_password(password):\n",
    "            on_complete(password)\n",
    "            return\n",
    "    \n",
    "    on_complete(password)"
   ]
  },
  {
   "cell_type": "code",
   "execution_count": 12,
   "metadata": {},
   "outputs": [
    {
     "name": "stdout",
     "output_type": "stream",
     "text": [
      "hz\n"
     ]
    }
   ],
   "source": [
    "hack.sequential_hack(print)"
   ]
  },
  {
   "cell_type": "code",
   "execution_count": null,
   "metadata": {},
   "outputs": [],
   "source": []
  },
  {
   "cell_type": "code",
   "execution_count": null,
   "metadata": {},
   "outputs": [],
   "source": []
  }
 ],
 "metadata": {
  "kernelspec": {
   "display_name": "Python 3",
   "language": "python",
   "name": "python3"
  },
  "language_info": {
   "codemirror_mode": {
    "name": "ipython",
    "version": 3
   },
   "file_extension": ".py",
   "mimetype": "text/x-python",
   "name": "python",
   "nbconvert_exporter": "python",
   "pygments_lexer": "ipython3",
   "version": "3.7.2"
  }
 },
 "nbformat": 4,
 "nbformat_minor": 2
}
